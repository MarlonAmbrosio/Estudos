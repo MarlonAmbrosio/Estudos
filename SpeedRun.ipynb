{
  "cells": [
    {
      "cell_type": "markdown",
      "metadata": {
        "id": "view-in-github",
        "colab_type": "text"
      },
      "source": [
        "<a href=\"https://colab.research.google.com/github/MarlonAmbrosio/Estudos/blob/main/SpeedRun.ipynb\" target=\"_parent\"><img src=\"https://colab.research.google.com/assets/colab-badge.svg\" alt=\"Open In Colab\"/></a>"
      ]
    },
    {
      "cell_type": "code",
      "source": [
        "print('='*30)\n",
        "print(f'{\"SpeedRun\":^30}')\n",
        "print('='*30)\n",
        "print('Programa que ajuda a calcular \\nsua velocidade!\\n')\n",
        "\n",
        "escolha = input('Calcular velocidade em\\n[1-Metros/Minuto] ou [2-Km/H]:\\n')\n",
        "\n",
        "while escolha != '1' and escolha != '2':\n",
        "  escolha = input('\\nOpção invalida! Escolha entre\\n[1-Metros/Minuto] ou [2-Km/H]:\\n')\n",
        "\n",
        "if escolha == '1':\n",
        "  trajeto = float(input('\\nTrajeto percorrido (metros): '))\n",
        "  tempo = float(input('Tempo gasto (minutos): '))\n",
        "\n",
        "  velocidade = trajeto  / tempo\n",
        "\n",
        "  print(f'Velocidade média: {velocidade:.2f} Metros/minuto')\n",
        "\n",
        "else:\n",
        "  trajeto = float(input('\\nTrajeto percorrido (Km): '))\n",
        "  tempo = float(input('Tempo gasto (somente as horas): '))\n",
        "  tempo2 = float(input('Tempo gasto (somente os minutos): '))\n",
        "\n",
        "  tempo3 = tempo + (tempo2 / 60)\n",
        "\n",
        "  velocidade = trajeto  / tempo3\n",
        "\n",
        "  print(f'Velocidade média: {velocidade:.2f} Km/H')"
      ],
      "metadata": {
        "id": "Od-oFepyPtXu"
      },
      "execution_count": null,
      "outputs": []
    },
    {
      "cell_type": "code",
      "source": [],
      "metadata": {
        "id": "bYi3jWI3WsNk"
      },
      "execution_count": null,
      "outputs": []
    }
  ],
  "metadata": {
    "colab": {
      "name": "Olá, este é o Colaboratory",
      "toc_visible": true,
      "provenance": [],
      "include_colab_link": true
    },
    "kernelspec": {
      "display_name": "Python 3",
      "name": "python3"
    }
  },
  "nbformat": 4,
  "nbformat_minor": 0
}